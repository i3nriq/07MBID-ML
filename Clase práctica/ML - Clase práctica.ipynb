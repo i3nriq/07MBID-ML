{
  "nbformat": 4,
  "nbformat_minor": 0,
  "metadata": {
    "colab": {
      "provenance": [],
      "collapsed_sections": []
    },
    "kernelspec": {
      "name": "python3",
      "display_name": "Python 3"
    },
    "language_info": {
      "name": "python"
    }
  },
  "cells": [
    {
      "cell_type": "markdown",
      "metadata": {
        "id": "uZoBksDmqoIn"
      },
      "source": [
        "## Práctica\n",
        "\n",
        "En esta clase vais a trabajar con un dataset de Kaggle y las diferentes técnicas vistas en clase para afianzarlas.\n",
        "\n",
        "En concreto, vamos a tratar de predecir la tasa de supervivencia tras un fallo cardíaco.\n",
        "\n",
        "El dataset a utilizar se encuentra disponible en [Kaggle](https://www.kaggle.com/prakharshukla93/85-heart-failure-prediction/data) y [aquí](https://drive.google.com/file/d/1Z-NRLVZf4_rAt8EsaVtcGGTUqEnA-o4r/view?usp=sharing). \n",
        "\n",
        "Proviene del siguiente artículo publicado en 2020:\n",
        "\n",
        "> Davide Chicco, Giuseppe Jurman: \"Machine learning can predict survival of patients with heart failure from serum creatinine and ejection fraction alone\". BMC Medical Informatics and Decision Making 20, 16 (2020)\n",
        "\n",
        "Se trata de llegar al mejor resultado posible. Disponéis de estas dos horas y el tiempo que quede hasta la última clase. En ella una persona de cada grupo explicará durante 5 ó 10 minutos lo que ha hecho, compartiendo la pantalla con su notebook, y comentaremos las opciones propuestas y los resultados.\n",
        "\n",
        "Aquí os dejo la forma de cargar los datos. Recordad que debéis respetar estos \"splits\" de train y test, y que **no debéis utilizar datos de test** para entrenar vuestros modelos.\n",
        "\n",
        "Los pasos a seguir serían los que habéis hecho en la AG1 y la AG2:\n",
        "\n",
        "- Limpieza de los datos, análisis de outliers, correlaciones, normalización, etc\n",
        "- Aplicación de algoritmos de Machine Learning que permitan clasificar datos."
      ]
    },
    {
      "cell_type": "code",
      "metadata": {
        "id": "6MK3idLzT8MX"
      },
      "source": [
        "from google.colab import files\n",
        "\n",
        "uploaded = files.upload()\n",
        "\n",
        "for fn in uploaded.keys():\n",
        "  print('User uploaded file \"{name}\" with length {length} bytes'.format(\n",
        "      name=fn, length=len(uploaded[fn])))"
      ],
      "execution_count": null,
      "outputs": []
    },
    {
      "cell_type": "code",
      "metadata": {
        "id": "sT8NuNv0UWyp"
      },
      "source": [
        "!ls"
      ],
      "execution_count": null,
      "outputs": []
    },
    {
      "cell_type": "code",
      "metadata": {
        "id": "4y6h8ssASF5K"
      },
      "source": [
        "import numpy as np\n",
        "import pandas as pd"
      ],
      "execution_count": null,
      "outputs": []
    },
    {
      "cell_type": "code",
      "metadata": {
        "id": "q4K6fCV4TUzC"
      },
      "source": [
        "dataset = pd.read_csv('heart_failure_clinical_records_dataset.csv')"
      ],
      "execution_count": null,
      "outputs": []
    },
    {
      "cell_type": "code",
      "metadata": {
        "id": "FZ1xh2epUdLD"
      },
      "source": [
        "dataset.head()"
      ],
      "execution_count": null,
      "outputs": []
    },
    {
      "cell_type": "code",
      "metadata": {
        "id": "oy404tEUUfgJ"
      },
      "source": [
        "dataset.tail()"
      ],
      "execution_count": null,
      "outputs": []
    },
    {
      "cell_type": "code",
      "metadata": {
        "id": "9Nbd4HqZTlNj"
      },
      "source": [
        "from sklearn.model_selection import train_test_split\n",
        "x_train, x_test, y_train, y_test = train_test_split(dataset.drop(columns=['DEATH_EVENT']), dataset['DEATH_EVENT'], test_size=0.2, random_state=0)\n"
      ],
      "execution_count": null,
      "outputs": []
    },
    {
      "cell_type": "code",
      "metadata": {
        "id": "y02THpUuWlaB"
      },
      "source": [
        "x_train.head()"
      ],
      "execution_count": null,
      "outputs": []
    },
    {
      "cell_type": "code",
      "metadata": {
        "id": "GQ7tN6wgWnG9"
      },
      "source": [
        "y_train.head"
      ],
      "execution_count": null,
      "outputs": []
    },
    {
      "cell_type": "markdown",
      "metadata": {
        "id": "V90lZkN3U3cZ"
      },
      "source": [
        "Hasta aquí todos los equipos tienen que hacer lo mismo, para trabajar todos con el mismo conjunto de train y de test.\n",
        "\n",
        "**Recordad que el conjunto de TEST no se puede utilizar para entrenar!**\n",
        "\n",
        "A partir de aquí ya podéis empezar a trabajar en vuestras técnicas."
      ]
    }
  ]
}